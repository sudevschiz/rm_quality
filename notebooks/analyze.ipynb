{
 "cells": [
  {
   "cell_type": "code",
   "execution_count": 1,
   "metadata": {},
   "outputs": [],
   "source": [
    "import pandas as pd\n",
    "import plotly.express as px\n",
    "import plotly.graph_objs as go\n",
    "import json"
   ]
  },
  {
   "cell_type": "code",
   "execution_count": 2,
   "metadata": {},
   "outputs": [],
   "source": [
    "# Load data from csv file\n",
    "df = pd.read_excel('../data/lte_logs_20230129213215_1.xlsx', engine='openpyxl')"
   ]
  },
  {
   "cell_type": "code",
   "execution_count": 3,
   "metadata": {},
   "outputs": [],
   "source": [
    "# Clean\n",
    "df['createdJST'] = pd.to_datetime(df['createdJST'])"
   ]
  },
  {
   "cell_type": "code",
   "execution_count": 4,
   "metadata": {},
   "outputs": [],
   "source": [
    "# Mapbox API Key\n",
    "with open(\"../config/secret.json\", \"r\") as f:\n",
    "    secret = json.load(f)\n",
    "px.set_mapbox_access_token(secret[\"map_box_api\"])\n",
    "\n",
    "# Define the zoom level of the map\n",
    "map_zoom = 12\n"
   ]
  },
  {
   "cell_type": "code",
   "execution_count": 5,
   "metadata": {},
   "outputs": [],
   "source": [
    "# Create a scatter plot using plotly express\n",
    "fig = px.scatter_mapbox(\n",
    "    df,\n",
    "    lat=\"latitude\",\n",
    "    lon=\"longitude\",\n",
    "    # animation_frame=\"createdJST\",\n",
    "    color=\"rsrpInDbm\",\n",
    "    color_continuous_scale=px.colors.sequential.Plasma,\n",
    "    zoom=map_zoom, \n",
    "    mapbox_style=\"dark\"\n",
    "    )   "
   ]
  },
  {
   "cell_type": "code",
   "execution_count": 6,
   "metadata": {},
   "outputs": [
    {
     "data": {
      "application/vnd.plotly.v1+json": {
       "config": {
        "plotlyServerURL": "https://plot.ly"
       },
       "data": [
        {
         "hovertemplate": "latitude=%{lat}<br>longitude=%{lon}<br>rsrpInDbm=%{marker.color}<extra></extra>",
         "lat": [
          35.5966082,
          35.5985919260561,
          35.59667,
          35.5960865,
          35.5960466207508,
          35.5962185,
          35.5964138,
          35.5955249339404,
          35.5959533,
          35.5968093,
          35.5974774,
          35.5980519,
          35.5997942,
          35.6027398,
          35.6033461,
          35.6041839,
          35.6031584,
          35.6035579,
          35.6068239,
          35.607281,
          35.6096927,
          35.6132715,
          35.6146498,
          35.6158185,
          35.6165919,
          35.6175227,
          35.6197067,
          35.621021,
          35.6224062,
          35.6230569,
          35.6242797,
          35.6248777,
          35.6281346,
          35.6293499,
          35.6302299,
          35.6312302,
          35.6320376,
          35.6328529,
          35.6338542,
          35.6347293,
          35.6324977,
          35.6347961,
          35.6369996,
          35.6384473,
          35.6391358,
          35.6405097,
          35.6412336,
          35.6424601,
          35.6430191,
          35.6443933,
          35.6453816,
          35.6459951,
          35.6475982,
          35.6477043,
          35.6482482,
          35.6514826,
          35.6522174,
          35.5953237463261,
          35.6566842,
          35.6567183,
          35.6565457,
          35.6567509,
          35.6549324,
          35.6549907,
          35.6552318,
          35.6555111,
          35.6562324,
          35.6564966,
          35.6566778,
          35.6569156,
          35.6571672,
          35.6641946,
          35.6635057,
          35.6618458,
          35.6601095,
          35.6597982717525,
          35.6604896357075,
          35.6610779,
          35.661335,
          35.6615348,
          35.6605135936067,
          35.6616545,
          35.6611350951862,
          35.6624116,
          35.6627783,
          35.6629255,
          35.6617177,
          35.663221,
          35.6670984,
          35.6679423,
          35.6657195,
          35.674285,
          35.6694646,
          35.6746533,
          35.6742188,
          35.6611350951862,
          35.6706406558969,
          35.6708081,
          35.6701122,
          35.6703631,
          35.6706369687045,
          35.6714443,
          35.6708323833756,
          35.6716445576046,
          35.6720027274517,
          35.6726171,
          35.6734968,
          35.6722432601578,
          35.6733685256312,
          35.6646466,
          35.6640902,
          35.6634751,
          35.6601863,
          35.657729,
          35.6568983,
          35.6558072,
          35.6546428,
          35.6538752,
          35.6533088,
          35.6525936,
          35.651764,
          35.6508006,
          35.6501887,
          35.6493713,
          35.6489924,
          35.6490488,
          35.6482483,
          35.6472071,
          35.6466326,
          35.6460029,
          35.6457752,
          35.6456283,
          35.6453572,
          35.6451344,
          35.6440688,
          35.6436047,
          35.6433209,
          35.6429112,
          35.6424442,
          35.6396507,
          35.6370458,
          35.6356053,
          35.6350505,
          35.6345679,
          35.6340909,
          35.6340818,
          35.6308636,
          35.6308549,
          35.6291732,
          35.6288514,
          35.6281847,
          35.6277877,
          35.6270506,
          35.6263763,
          35.623492,
          35.6216611,
          35.6206859,
          35.6201666,
          35.618869,
          35.6179202,
          35.6167781,
          35.6156886,
          35.6173165,
          35.6176273,
          35.6192561,
          35.619721,
          35.6196848,
          35.616512,
          35.6163364,
          35.6153832,
          35.6150339,
          35.6149008,
          35.6148176,
          35.6149533,
          35.615124,
          35.6075521,
          35.607387,
          35.6073682,
          35.6094513,
          35.6094714,
          35.6095946,
          35.6095471,
          35.60974,
          35.6093368,
          35.6107431,
          35.666831168442,
          35.6106606,
          35.6102415,
          35.6099034,
          35.5982284,
          35.666831168442
         ],
         "legendgroup": "",
         "lon": [
          139.7511459,
          139.750749839496,
          139.7525526,
          139.7517611,
          139.75109537937,
          139.7482489,
          139.7497099,
          139.749465519574,
          139.7468051,
          139.7467555,
          139.7463866,
          139.7493516,
          139.7473068,
          139.7463258,
          139.7468811,
          139.7475993,
          139.7516549,
          139.7469433,
          139.750698,
          139.7504821,
          139.7551455,
          139.7507317,
          139.7506087,
          139.7508486,
          139.750972,
          139.7510837,
          139.7512576,
          139.7508745,
          139.7507599,
          139.7507708,
          139.7504651,
          139.7504846,
          139.7504866,
          139.7505159,
          139.7505261,
          139.750033,
          139.7506158,
          139.7501926,
          139.7501565,
          139.7504685,
          139.7486591,
          139.7479994,
          139.7490594,
          139.7496511,
          139.7493712,
          139.7498997,
          139.750766,
          139.7514896,
          139.7510797,
          139.7512816,
          139.7506901,
          139.7505599,
          139.7512842,
          139.7524918,
          139.7538191,
          139.756464,
          139.7570241,
          139.746952336164,
          139.7556078,
          139.7550599,
          139.7509933,
          139.7499571,
          139.7446558,
          139.743987,
          139.7426883,
          139.7423412,
          139.7367557,
          139.7363037,
          139.7357504,
          139.7348317,
          139.7410929,
          139.7313304,
          139.7317837,
          139.7306092,
          139.7303588,
          139.728841585448,
          139.731161612779,
          139.7298139,
          139.7289894,
          139.7284858,
          139.731140491099,
          139.7290099,
          139.728384920623,
          139.730498,
          139.7311772,
          139.7315272,
          139.7359837,
          139.7451771,
          139.7478716,
          139.7479247,
          139.7452445,
          139.7513206,
          139.7538679,
          139.7599379,
          139.7608647,
          139.728384920623,
          139.763789724009,
          139.7646782,
          139.7636502,
          139.7633543,
          139.763524636194,
          139.7624157,
          139.763209750896,
          139.762140391497,
          139.763550594521,
          139.763374,
          139.7644199,
          139.763122391047,
          139.764969877447,
          139.7584727,
          139.7584423,
          139.7584348,
          139.757386,
          139.7576331,
          139.7571078,
          139.757368,
          139.7569156,
          139.7566024,
          139.7565502,
          139.7562742,
          139.7559099,
          139.7554809,
          139.7548624,
          139.7548909,
          139.7536838,
          139.7532993,
          139.7525919,
          139.7521303,
          139.7505623,
          139.7500551,
          139.7487535,
          139.7475783,
          139.7467919,
          139.7463869,
          139.7456092,
          139.7452266,
          139.7442149,
          139.7434593,
          139.7422491,
          139.7438466,
          139.7417316,
          139.7407402,
          139.740642,
          139.7390946,
          139.7387174,
          139.7382499,
          139.7388,
          139.7382853,
          139.7385892,
          139.7384095,
          139.7384203,
          139.7385595,
          139.7394462,
          139.7396692,
          139.7390173,
          139.7373124,
          139.7377647,
          139.7374373,
          139.7366008,
          139.7361016,
          139.7354722,
          139.7348171,
          139.7316935,
          139.7314628,
          139.728744,
          139.7285896,
          139.7282714,
          139.7303014,
          139.7306032,
          139.7313147,
          139.7322114,
          139.7330918,
          139.7335209,
          139.7325729,
          139.7316048,
          139.734359,
          139.7346321,
          139.734148,
          139.7465899,
          139.7464607,
          139.7481253,
          139.7495382,
          139.7492715,
          139.7488701,
          139.7495286,
          139.758007604872,
          139.7486956,
          139.748407,
          139.7489244,
          139.7501701,
          139.758007604872
         ],
         "marker": {
          "color": [
           -85,
           -86,
           -88,
           -89,
           -72,
           -89,
           -95,
           -88,
           -72,
           -70,
           -73,
           -79,
           -83,
           -86,
           -78,
           -73,
           -81,
           -79,
           -79,
           -91,
           -91,
           -92,
           -99,
           -96,
           -92,
           -88,
           -86,
           -69,
           -77,
           -67,
           -92,
           -96,
           -89,
           -82,
           -85,
           -86,
           -74,
           -85,
           -95,
           -73,
           -75,
           -78,
           -82,
           -90,
           -76,
           -70,
           -67,
           -86,
           -79,
           -77,
           -79,
           -75,
           -86,
           -81,
           -83,
           -86,
           -83,
           -104,
           -81,
           -106,
           -68,
           -95,
           -84,
           -87,
           -116,
           -85,
           -80,
           -96,
           -84,
           -90,
           -104,
           -73,
           -80,
           -82,
           -56,
           -61,
           -61,
           -81,
           -84,
           -80,
           -101,
           -75,
           -95,
           -102,
           -95,
           -94,
           -101,
           -90,
           -89,
           -90,
           -86,
           -93,
           -94,
           -95,
           -99,
           -72,
           -79,
           -67,
           -80,
           -68,
           -73,
           -73,
           -72,
           -67,
           -65,
           -73,
           -67,
           -67,
           -75,
           -64,
           -79,
           -76,
           -81,
           -77,
           -77,
           -80,
           -88,
           -80,
           -82,
           -77,
           -91,
           -85,
           -87,
           -75,
           -78,
           -75,
           -76,
           -81,
           -91,
           -88,
           -85,
           -92,
           -86,
           -93,
           -97,
           -97,
           -88,
           -85,
           -83,
           -87,
           -77,
           -90,
           -93,
           -82,
           -83,
           -72,
           -75,
           -66,
           -79,
           -92,
           -80,
           -79,
           -82,
           -73,
           -76,
           -80,
           -94,
           -89,
           -87,
           -79,
           -90,
           -103,
           -96,
           -81,
           -97,
           -97,
           -85,
           -73,
           -80,
           -75,
           -108,
           -119,
           -100,
           -85,
           -92,
           -94,
           -84,
           -81,
           -94,
           -90,
           -71,
           -94,
           -83,
           -84,
           -107,
           -90,
           -110,
           -94,
           -105,
           -87,
           -88
          ],
          "coloraxis": "coloraxis"
         },
         "mode": "markers",
         "name": "",
         "showlegend": false,
         "subplot": "mapbox",
         "type": "scattermapbox"
        }
       ],
       "layout": {
        "coloraxis": {
         "colorbar": {
          "title": {
           "text": "rsrpInDbm"
          }
         },
         "colorscale": [
          [
           0,
           "#0d0887"
          ],
          [
           0.1111111111111111,
           "#46039f"
          ],
          [
           0.2222222222222222,
           "#7201a8"
          ],
          [
           0.3333333333333333,
           "#9c179e"
          ],
          [
           0.4444444444444444,
           "#bd3786"
          ],
          [
           0.5555555555555556,
           "#d8576b"
          ],
          [
           0.6666666666666666,
           "#ed7953"
          ],
          [
           0.7777777777777778,
           "#fb9f3a"
          ],
          [
           0.8888888888888888,
           "#fdca26"
          ],
          [
           1,
           "#f0f921"
          ]
         ]
        },
        "legend": {
         "tracegroupgap": 0
        },
        "mapbox": {
         "accesstoken": "<INSERT>",
         "center": {
          "lat": 35.63710854468177,
          "lon": 139.74640701612844
         },
         "domain": {
          "x": [
           0,
           1
          ],
          "y": [
           0,
           1
          ]
         },
         "style": "dark",
         "zoom": 12
        },
        "margin": {
         "t": 60
        },
        "template": {
         "data": {
          "bar": [
           {
            "error_x": {
             "color": "#2a3f5f"
            },
            "error_y": {
             "color": "#2a3f5f"
            },
            "marker": {
             "line": {
              "color": "#E5ECF6",
              "width": 0.5
             },
             "pattern": {
              "fillmode": "overlay",
              "size": 10,
              "solidity": 0.2
             }
            },
            "type": "bar"
           }
          ],
          "barpolar": [
           {
            "marker": {
             "line": {
              "color": "#E5ECF6",
              "width": 0.5
             },
             "pattern": {
              "fillmode": "overlay",
              "size": 10,
              "solidity": 0.2
             }
            },
            "type": "barpolar"
           }
          ],
          "carpet": [
           {
            "aaxis": {
             "endlinecolor": "#2a3f5f",
             "gridcolor": "white",
             "linecolor": "white",
             "minorgridcolor": "white",
             "startlinecolor": "#2a3f5f"
            },
            "baxis": {
             "endlinecolor": "#2a3f5f",
             "gridcolor": "white",
             "linecolor": "white",
             "minorgridcolor": "white",
             "startlinecolor": "#2a3f5f"
            },
            "type": "carpet"
           }
          ],
          "choropleth": [
           {
            "colorbar": {
             "outlinewidth": 0,
             "ticks": ""
            },
            "type": "choropleth"
           }
          ],
          "contour": [
           {
            "colorbar": {
             "outlinewidth": 0,
             "ticks": ""
            },
            "colorscale": [
             [
              0,
              "#0d0887"
             ],
             [
              0.1111111111111111,
              "#46039f"
             ],
             [
              0.2222222222222222,
              "#7201a8"
             ],
             [
              0.3333333333333333,
              "#9c179e"
             ],
             [
              0.4444444444444444,
              "#bd3786"
             ],
             [
              0.5555555555555556,
              "#d8576b"
             ],
             [
              0.6666666666666666,
              "#ed7953"
             ],
             [
              0.7777777777777778,
              "#fb9f3a"
             ],
             [
              0.8888888888888888,
              "#fdca26"
             ],
             [
              1,
              "#f0f921"
             ]
            ],
            "type": "contour"
           }
          ],
          "contourcarpet": [
           {
            "colorbar": {
             "outlinewidth": 0,
             "ticks": ""
            },
            "type": "contourcarpet"
           }
          ],
          "heatmap": [
           {
            "colorbar": {
             "outlinewidth": 0,
             "ticks": ""
            },
            "colorscale": [
             [
              0,
              "#0d0887"
             ],
             [
              0.1111111111111111,
              "#46039f"
             ],
             [
              0.2222222222222222,
              "#7201a8"
             ],
             [
              0.3333333333333333,
              "#9c179e"
             ],
             [
              0.4444444444444444,
              "#bd3786"
             ],
             [
              0.5555555555555556,
              "#d8576b"
             ],
             [
              0.6666666666666666,
              "#ed7953"
             ],
             [
              0.7777777777777778,
              "#fb9f3a"
             ],
             [
              0.8888888888888888,
              "#fdca26"
             ],
             [
              1,
              "#f0f921"
             ]
            ],
            "type": "heatmap"
           }
          ],
          "heatmapgl": [
           {
            "colorbar": {
             "outlinewidth": 0,
             "ticks": ""
            },
            "colorscale": [
             [
              0,
              "#0d0887"
             ],
             [
              0.1111111111111111,
              "#46039f"
             ],
             [
              0.2222222222222222,
              "#7201a8"
             ],
             [
              0.3333333333333333,
              "#9c179e"
             ],
             [
              0.4444444444444444,
              "#bd3786"
             ],
             [
              0.5555555555555556,
              "#d8576b"
             ],
             [
              0.6666666666666666,
              "#ed7953"
             ],
             [
              0.7777777777777778,
              "#fb9f3a"
             ],
             [
              0.8888888888888888,
              "#fdca26"
             ],
             [
              1,
              "#f0f921"
             ]
            ],
            "type": "heatmapgl"
           }
          ],
          "histogram": [
           {
            "marker": {
             "pattern": {
              "fillmode": "overlay",
              "size": 10,
              "solidity": 0.2
             }
            },
            "type": "histogram"
           }
          ],
          "histogram2d": [
           {
            "colorbar": {
             "outlinewidth": 0,
             "ticks": ""
            },
            "colorscale": [
             [
              0,
              "#0d0887"
             ],
             [
              0.1111111111111111,
              "#46039f"
             ],
             [
              0.2222222222222222,
              "#7201a8"
             ],
             [
              0.3333333333333333,
              "#9c179e"
             ],
             [
              0.4444444444444444,
              "#bd3786"
             ],
             [
              0.5555555555555556,
              "#d8576b"
             ],
             [
              0.6666666666666666,
              "#ed7953"
             ],
             [
              0.7777777777777778,
              "#fb9f3a"
             ],
             [
              0.8888888888888888,
              "#fdca26"
             ],
             [
              1,
              "#f0f921"
             ]
            ],
            "type": "histogram2d"
           }
          ],
          "histogram2dcontour": [
           {
            "colorbar": {
             "outlinewidth": 0,
             "ticks": ""
            },
            "colorscale": [
             [
              0,
              "#0d0887"
             ],
             [
              0.1111111111111111,
              "#46039f"
             ],
             [
              0.2222222222222222,
              "#7201a8"
             ],
             [
              0.3333333333333333,
              "#9c179e"
             ],
             [
              0.4444444444444444,
              "#bd3786"
             ],
             [
              0.5555555555555556,
              "#d8576b"
             ],
             [
              0.6666666666666666,
              "#ed7953"
             ],
             [
              0.7777777777777778,
              "#fb9f3a"
             ],
             [
              0.8888888888888888,
              "#fdca26"
             ],
             [
              1,
              "#f0f921"
             ]
            ],
            "type": "histogram2dcontour"
           }
          ],
          "mesh3d": [
           {
            "colorbar": {
             "outlinewidth": 0,
             "ticks": ""
            },
            "type": "mesh3d"
           }
          ],
          "parcoords": [
           {
            "line": {
             "colorbar": {
              "outlinewidth": 0,
              "ticks": ""
             }
            },
            "type": "parcoords"
           }
          ],
          "pie": [
           {
            "automargin": true,
            "type": "pie"
           }
          ],
          "scatter": [
           {
            "marker": {
             "colorbar": {
              "outlinewidth": 0,
              "ticks": ""
             }
            },
            "type": "scatter"
           }
          ],
          "scatter3d": [
           {
            "line": {
             "colorbar": {
              "outlinewidth": 0,
              "ticks": ""
             }
            },
            "marker": {
             "colorbar": {
              "outlinewidth": 0,
              "ticks": ""
             }
            },
            "type": "scatter3d"
           }
          ],
          "scattercarpet": [
           {
            "marker": {
             "colorbar": {
              "outlinewidth": 0,
              "ticks": ""
             }
            },
            "type": "scattercarpet"
           }
          ],
          "scattergeo": [
           {
            "marker": {
             "colorbar": {
              "outlinewidth": 0,
              "ticks": ""
             }
            },
            "type": "scattergeo"
           }
          ],
          "scattergl": [
           {
            "marker": {
             "colorbar": {
              "outlinewidth": 0,
              "ticks": ""
             }
            },
            "type": "scattergl"
           }
          ],
          "scattermapbox": [
           {
            "marker": {
             "colorbar": {
              "outlinewidth": 0,
              "ticks": ""
             }
            },
            "type": "scattermapbox"
           }
          ],
          "scatterpolar": [
           {
            "marker": {
             "colorbar": {
              "outlinewidth": 0,
              "ticks": ""
             }
            },
            "type": "scatterpolar"
           }
          ],
          "scatterpolargl": [
           {
            "marker": {
             "colorbar": {
              "outlinewidth": 0,
              "ticks": ""
             }
            },
            "type": "scatterpolargl"
           }
          ],
          "scatterternary": [
           {
            "marker": {
             "colorbar": {
              "outlinewidth": 0,
              "ticks": ""
             }
            },
            "type": "scatterternary"
           }
          ],
          "surface": [
           {
            "colorbar": {
             "outlinewidth": 0,
             "ticks": ""
            },
            "colorscale": [
             [
              0,
              "#0d0887"
             ],
             [
              0.1111111111111111,
              "#46039f"
             ],
             [
              0.2222222222222222,
              "#7201a8"
             ],
             [
              0.3333333333333333,
              "#9c179e"
             ],
             [
              0.4444444444444444,
              "#bd3786"
             ],
             [
              0.5555555555555556,
              "#d8576b"
             ],
             [
              0.6666666666666666,
              "#ed7953"
             ],
             [
              0.7777777777777778,
              "#fb9f3a"
             ],
             [
              0.8888888888888888,
              "#fdca26"
             ],
             [
              1,
              "#f0f921"
             ]
            ],
            "type": "surface"
           }
          ],
          "table": [
           {
            "cells": {
             "fill": {
              "color": "#EBF0F8"
             },
             "line": {
              "color": "white"
             }
            },
            "header": {
             "fill": {
              "color": "#C8D4E3"
             },
             "line": {
              "color": "white"
             }
            },
            "type": "table"
           }
          ]
         },
         "layout": {
          "annotationdefaults": {
           "arrowcolor": "#2a3f5f",
           "arrowhead": 0,
           "arrowwidth": 1
          },
          "autotypenumbers": "strict",
          "coloraxis": {
           "colorbar": {
            "outlinewidth": 0,
            "ticks": ""
           }
          },
          "colorscale": {
           "diverging": [
            [
             0,
             "#8e0152"
            ],
            [
             0.1,
             "#c51b7d"
            ],
            [
             0.2,
             "#de77ae"
            ],
            [
             0.3,
             "#f1b6da"
            ],
            [
             0.4,
             "#fde0ef"
            ],
            [
             0.5,
             "#f7f7f7"
            ],
            [
             0.6,
             "#e6f5d0"
            ],
            [
             0.7,
             "#b8e186"
            ],
            [
             0.8,
             "#7fbc41"
            ],
            [
             0.9,
             "#4d9221"
            ],
            [
             1,
             "#276419"
            ]
           ],
           "sequential": [
            [
             0,
             "#0d0887"
            ],
            [
             0.1111111111111111,
             "#46039f"
            ],
            [
             0.2222222222222222,
             "#7201a8"
            ],
            [
             0.3333333333333333,
             "#9c179e"
            ],
            [
             0.4444444444444444,
             "#bd3786"
            ],
            [
             0.5555555555555556,
             "#d8576b"
            ],
            [
             0.6666666666666666,
             "#ed7953"
            ],
            [
             0.7777777777777778,
             "#fb9f3a"
            ],
            [
             0.8888888888888888,
             "#fdca26"
            ],
            [
             1,
             "#f0f921"
            ]
           ],
           "sequentialminus": [
            [
             0,
             "#0d0887"
            ],
            [
             0.1111111111111111,
             "#46039f"
            ],
            [
             0.2222222222222222,
             "#7201a8"
            ],
            [
             0.3333333333333333,
             "#9c179e"
            ],
            [
             0.4444444444444444,
             "#bd3786"
            ],
            [
             0.5555555555555556,
             "#d8576b"
            ],
            [
             0.6666666666666666,
             "#ed7953"
            ],
            [
             0.7777777777777778,
             "#fb9f3a"
            ],
            [
             0.8888888888888888,
             "#fdca26"
            ],
            [
             1,
             "#f0f921"
            ]
           ]
          },
          "colorway": [
           "#636efa",
           "#EF553B",
           "#00cc96",
           "#ab63fa",
           "#FFA15A",
           "#19d3f3",
           "#FF6692",
           "#B6E880",
           "#FF97FF",
           "#FECB52"
          ],
          "font": {
           "color": "#2a3f5f"
          },
          "geo": {
           "bgcolor": "white",
           "lakecolor": "white",
           "landcolor": "#E5ECF6",
           "showlakes": true,
           "showland": true,
           "subunitcolor": "white"
          },
          "hoverlabel": {
           "align": "left"
          },
          "hovermode": "closest",
          "mapbox": {
           "style": "light"
          },
          "paper_bgcolor": "white",
          "plot_bgcolor": "#E5ECF6",
          "polar": {
           "angularaxis": {
            "gridcolor": "white",
            "linecolor": "white",
            "ticks": ""
           },
           "bgcolor": "#E5ECF6",
           "radialaxis": {
            "gridcolor": "white",
            "linecolor": "white",
            "ticks": ""
           }
          },
          "scene": {
           "xaxis": {
            "backgroundcolor": "#E5ECF6",
            "gridcolor": "white",
            "gridwidth": 2,
            "linecolor": "white",
            "showbackground": true,
            "ticks": "",
            "zerolinecolor": "white"
           },
           "yaxis": {
            "backgroundcolor": "#E5ECF6",
            "gridcolor": "white",
            "gridwidth": 2,
            "linecolor": "white",
            "showbackground": true,
            "ticks": "",
            "zerolinecolor": "white"
           },
           "zaxis": {
            "backgroundcolor": "#E5ECF6",
            "gridcolor": "white",
            "gridwidth": 2,
            "linecolor": "white",
            "showbackground": true,
            "ticks": "",
            "zerolinecolor": "white"
           }
          },
          "shapedefaults": {
           "line": {
            "color": "#2a3f5f"
           }
          },
          "ternary": {
           "aaxis": {
            "gridcolor": "white",
            "linecolor": "white",
            "ticks": ""
           },
           "baxis": {
            "gridcolor": "white",
            "linecolor": "white",
            "ticks": ""
           },
           "bgcolor": "#E5ECF6",
           "caxis": {
            "gridcolor": "white",
            "linecolor": "white",
            "ticks": ""
           }
          },
          "title": {
           "x": 0.05
          },
          "xaxis": {
           "automargin": true,
           "gridcolor": "white",
           "linecolor": "white",
           "ticks": "",
           "title": {
            "standoff": 15
           },
           "zerolinecolor": "white",
           "zerolinewidth": 2
          },
          "yaxis": {
           "automargin": true,
           "gridcolor": "white",
           "linecolor": "white",
           "ticks": "",
           "title": {
            "standoff": 15
           },
           "zerolinecolor": "white",
           "zerolinewidth": 2
          }
         }
        }
       }
      }
     },
     "metadata": {},
     "output_type": "display_data"
    }
   ],
   "source": [
    "fig"
   ]
  },
  {
   "cell_type": "code",
   "execution_count": null,
   "metadata": {},
   "outputs": [],
   "source": []
  }
 ],
 "metadata": {
  "kernelspec": {
   "display_name": "Python 3",
   "language": "python",
   "name": "python3"
  },
  "language_info": {
   "codemirror_mode": {
    "name": "ipython",
    "version": 3
   },
   "file_extension": ".py",
   "mimetype": "text/x-python",
   "name": "python",
   "nbconvert_exporter": "python",
   "pygments_lexer": "ipython3",
   "version": "3.9.15"
  },
  "orig_nbformat": 4,
  "vscode": {
   "interpreter": {
    "hash": "397704579725e15f5c7cb49fe5f0341eb7531c82d19f2c29d197e8b64ab5776b"
   }
  }
 },
 "nbformat": 4,
 "nbformat_minor": 2
}
